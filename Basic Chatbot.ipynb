{
 "cells": [
  {
   "cell_type": "code",
   "execution_count": null,
   "id": "68d98c08",
   "metadata": {},
   "outputs": [
    {
     "name": "stdout",
     "output_type": "stream",
     "text": [
      " ChatBuddy: Hello! Type something to start chatting (type 'bye' to exit)\n"
     ]
    }
   ],
   "source": [
    "def get_response(user_input):\n",
    "    user_input = user_input.lower()\n",
    "\n",
    "    if user_input in [\"hello\", \"hi\", \"hey\", \"what’s up\"]:\n",
    "        return \"Hi there! \"\n",
    "    elif user_input in [\"how are you\", \"how are you doing\"]:\n",
    "        return \"I'm doing great, thanks for asking! \"\n",
    "    elif user_input in [\"bye\", \"goodbye\", \"see you\"]:\n",
    "        return \"Goodbye!  Have a nice day!\"\n",
    "    elif user_input in [\"what is your name\", \"what’s your name\"]:\n",
    "        return \"I'm just a simple chatbot. You can call me ChatBuddy \"\n",
    "    elif user_input in [\"help\", \"commands\"]:\n",
    "        return \"You can try: hello, how are you, what is your name, thank you, bye.\"\n",
    "    elif user_input in [\"thank you\", \"thanks\"]:\n",
    "        return \"You're welcome! \"\n",
    "    else:\n",
    "        return \"Sorry, I don't understand that. Try typing 'help' for suggestions.\"\n",
    "\n",
    "print(\" ChatBuddy: Hello! Type something to start chatting (type 'bye' to exit)\")\n",
    "\n",
    "while True:\n",
    "    user_message = input(\"You: \")\n",
    "    response = get_response(user_message)\n",
    "    print(\"ChatBuddy:\", response)\n",
    "\n",
    "    if user_message.lower() in [\"bye\", \"goodbye\", \"see you\"]:\n",
    "        break"
   ]
  }
 ],
 "metadata": {
  "kernelspec": {
   "display_name": "Python 3 (ipykernel)",
   "language": "python",
   "name": "python3"
  },
  "language_info": {
   "codemirror_mode": {
    "name": "ipython",
    "version": 3
   },
   "file_extension": ".py",
   "mimetype": "text/x-python",
   "name": "python",
   "nbconvert_exporter": "python",
   "pygments_lexer": "ipython3",
   "version": "3.11.5"
  }
 },
 "nbformat": 4,
 "nbformat_minor": 5
}
